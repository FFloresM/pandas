{
 "cells": [
  {
   "cell_type": "code",
   "execution_count": 22,
   "metadata": {
    "collapsed": true
   },
   "outputs": [],
   "source": [
    "import pandas as pd\n",
    "import numpy as np"
   ]
  },
  {
   "cell_type": "code",
   "execution_count": 23,
   "metadata": {
    "collapsed": true
   },
   "outputs": [],
   "source": [
    "xl_file = pd.read_excel(\"Estudio mercado 3.xlsx\", dtype={'Monto total OC': int})"
   ]
  },
  {
   "cell_type": "code",
   "execution_count": 96,
   "metadata": {},
   "outputs": [
    {
     "data": {
      "text/plain": [
       "Index(['Nro Licitación Pública', 'Id Convenio Marco', 'Convenio Marco',\n",
       "       'CodigoOC', 'NombreOC', 'Mes', 'Año', 'EstadoOC',\n",
       "       'Especificación del Comprador', 'IDProductoCM', 'Producto',\n",
       "       'Nombre Producto ONU', 'Tipo de Producto', 'Marca', 'Modelo',\n",
       "       'Precio Unitario', 'Cantidad', 'TotaLínea(Neto)', 'Moneda',\n",
       "       'Monto Total OC Neto', 'Descuento Global OC', 'Cargos Adicionales OC',\n",
       "       'Subtotal OC', 'Impuestos', 'Monto Total OC', 'Rut Unidad de Compra',\n",
       "       'Unidad de Compra', 'Razón Social Comprador', 'Dirección Unidad Compra',\n",
       "       'Comuna Unidad Compra', 'Región Unidad de Compra', 'Institución',\n",
       "       'Sector', 'Rut Proveedor', 'Nombre Proveedor Sucursal',\n",
       "       'Nombre Empresa', 'Dirección del Proveedor', 'Comuna del Proveedor',\n",
       "       'Región del Proveedor', 'Observaciones', 'Forma de Pago',\n",
       "       'Contacto Orden de Compra', 'Correo Contacto', 'Teléfono',\n",
       "       'Orgcode_Comprador', 'Entcode_Comprador', 'Orgcode_Proveedor',\n",
       "       'Entcode_Proveedor'],\n",
       "      dtype='object')"
      ]
     },
     "execution_count": 96,
     "metadata": {},
     "output_type": "execute_result"
    }
   ],
   "source": [
    "xl_file.columns"
   ]
  },
  {
   "cell_type": "code",
   "execution_count": 36,
   "metadata": {},
   "outputs": [
    {
     "data": {
      "text/plain": [
       "int"
      ]
     },
     "execution_count": 36,
     "metadata": {},
     "output_type": "execute_result"
    }
   ],
   "source": [
    "type(xl_file['Monto Total OC'][0])"
   ]
  },
  {
   "cell_type": "code",
   "execution_count": 102,
   "metadata": {
    "collapsed": true
   },
   "outputs": [],
   "source": [
    "cols = ['Institución', 'Monto Total OC']\n",
    "filtro1 = xl_file['Región Unidad de Compra']=='Antofagasta'\n",
    "anio = xl_file['Año'] == 2016\n",
    "mes = xl_file['Mes'] == 'Enero'\n",
    "met = xl_file[cols].where(filtro1 & anio & mes)\n"
   ]
  },
  {
   "cell_type": "code",
   "execution_count": 103,
   "metadata": {},
   "outputs": [],
   "source": [
    "new_met = met[met.Institución.notnull()].drop_duplicates()"
   ]
  },
  {
   "cell_type": "code",
   "execution_count": 104,
   "metadata": {},
   "outputs": [
    {
     "data": {
      "text/html": [
       "<div>\n",
       "<style>\n",
       "    .dataframe thead tr:only-child th {\n",
       "        text-align: right;\n",
       "    }\n",
       "\n",
       "    .dataframe thead th {\n",
       "        text-align: left;\n",
       "    }\n",
       "\n",
       "    .dataframe tbody tr th {\n",
       "        vertical-align: top;\n",
       "    }\n",
       "</style>\n",
       "<table border=\"1\" class=\"dataframe\">\n",
       "  <thead>\n",
       "    <tr style=\"text-align: right;\">\n",
       "      <th></th>\n",
       "      <th>Institución</th>\n",
       "      <th>Monto Total OC</th>\n",
       "    </tr>\n",
       "  </thead>\n",
       "  <tbody>\n",
       "    <tr>\n",
       "      <th>105243</th>\n",
       "      <td>Defensoría Penal Pública</td>\n",
       "      <td>626643</td>\n",
       "    </tr>\n",
       "    <tr>\n",
       "      <th>105307</th>\n",
       "      <td>ILUSTRE MUNICIPALIDAD DE CALAMA</td>\n",
       "      <td>569235</td>\n",
       "    </tr>\n",
       "    <tr>\n",
       "      <th>105342</th>\n",
       "      <td>Gendarmería de Chile</td>\n",
       "      <td>360756</td>\n",
       "    </tr>\n",
       "    <tr>\n",
       "      <th>105344</th>\n",
       "      <td>Gendarmería de Chile</td>\n",
       "      <td>284533</td>\n",
       "    </tr>\n",
       "    <tr>\n",
       "      <th>105403</th>\n",
       "      <td>Corporación Nacional Forestal - CONAF</td>\n",
       "      <td>2.91586e+06</td>\n",
       "    </tr>\n",
       "    <tr>\n",
       "      <th>105779</th>\n",
       "      <td>Junta Nacional de Jardines Infantiles - JUNJI</td>\n",
       "      <td>257297</td>\n",
       "    </tr>\n",
       "    <tr>\n",
       "      <th>105795</th>\n",
       "      <td>Hospital Regional de Antofagasta</td>\n",
       "      <td>1749300</td>\n",
       "    </tr>\n",
       "    <tr>\n",
       "      <th>106080</th>\n",
       "      <td>SERVIU II Región</td>\n",
       "      <td>1.69609e+06</td>\n",
       "    </tr>\n",
       "    <tr>\n",
       "      <th>106081</th>\n",
       "      <td>SERVIU II Región</td>\n",
       "      <td>363849</td>\n",
       "    </tr>\n",
       "    <tr>\n",
       "      <th>106158</th>\n",
       "      <td>Ilustre Municipalidad de Mejillones</td>\n",
       "      <td>1.63222e+06</td>\n",
       "    </tr>\n",
       "    <tr>\n",
       "      <th>106287</th>\n",
       "      <td>I. MUNICIPALIDAD DE TOCOPILLA</td>\n",
       "      <td>237476</td>\n",
       "    </tr>\n",
       "    <tr>\n",
       "      <th>106290</th>\n",
       "      <td>Ilustre Municipalidad de Mejillones</td>\n",
       "      <td>947656</td>\n",
       "    </tr>\n",
       "    <tr>\n",
       "      <th>106291</th>\n",
       "      <td>Ilustre Municipalidad de Mejillones</td>\n",
       "      <td>359399</td>\n",
       "    </tr>\n",
       "    <tr>\n",
       "      <th>106300</th>\n",
       "      <td>Universidad de Antofagasta</td>\n",
       "      <td>3576902</td>\n",
       "    </tr>\n",
       "    <tr>\n",
       "      <th>106391</th>\n",
       "      <td>Hospital Regional de Antofagasta</td>\n",
       "      <td>110075</td>\n",
       "    </tr>\n",
       "    <tr>\n",
       "      <th>106483</th>\n",
       "      <td>Defensoría Penal Pública</td>\n",
       "      <td>639253</td>\n",
       "    </tr>\n",
       "    <tr>\n",
       "      <th>106653</th>\n",
       "      <td>I. MUNICIPALIDAD DE TOCOPILLA</td>\n",
       "      <td>691568</td>\n",
       "    </tr>\n",
       "    <tr>\n",
       "      <th>106659</th>\n",
       "      <td>Ilustre Municipalidad de Mejillones</td>\n",
       "      <td>1.6026e+06</td>\n",
       "    </tr>\n",
       "    <tr>\n",
       "      <th>106663</th>\n",
       "      <td>Ilustre Municipalidad de Mejillones</td>\n",
       "      <td>321819</td>\n",
       "    </tr>\n",
       "    <tr>\n",
       "      <th>106675</th>\n",
       "      <td>Universidad de Antofagasta</td>\n",
       "      <td>700910</td>\n",
       "    </tr>\n",
       "    <tr>\n",
       "      <th>106676</th>\n",
       "      <td>Universidad de Antofagasta</td>\n",
       "      <td>1085280</td>\n",
       "    </tr>\n",
       "    <tr>\n",
       "      <th>106702</th>\n",
       "      <td>Corporación de Asistencia Judicial de las Regi...</td>\n",
       "      <td>807025</td>\n",
       "    </tr>\n",
       "    <tr>\n",
       "      <th>106914</th>\n",
       "      <td>Servicio de Impuestos Internos</td>\n",
       "      <td>97121.1</td>\n",
       "    </tr>\n",
       "    <tr>\n",
       "      <th>107072</th>\n",
       "      <td>Ilustre Municipalidad de Mejillones</td>\n",
       "      <td>282804</td>\n",
       "    </tr>\n",
       "    <tr>\n",
       "      <th>107073</th>\n",
       "      <td>Ilustre Municipalidad de Mejillones</td>\n",
       "      <td>2.196e+06</td>\n",
       "    </tr>\n",
       "    <tr>\n",
       "      <th>107134</th>\n",
       "      <td>Servicio Agrícola y Ganadero</td>\n",
       "      <td>335005</td>\n",
       "    </tr>\n",
       "  </tbody>\n",
       "</table>\n",
       "</div>"
      ],
      "text/plain": [
       "                                              Institución Monto Total OC\n",
       "105243                           Defensoría Penal Pública         626643\n",
       "105307                    ILUSTRE MUNICIPALIDAD DE CALAMA         569235\n",
       "105342                               Gendarmería de Chile         360756\n",
       "105344                               Gendarmería de Chile         284533\n",
       "105403              Corporación Nacional Forestal - CONAF    2.91586e+06\n",
       "105779      Junta Nacional de Jardines Infantiles - JUNJI         257297\n",
       "105795                   Hospital Regional de Antofagasta        1749300\n",
       "106080                                   SERVIU II Región    1.69609e+06\n",
       "106081                                   SERVIU II Región         363849\n",
       "106158                Ilustre Municipalidad de Mejillones    1.63222e+06\n",
       "106287                      I. MUNICIPALIDAD DE TOCOPILLA         237476\n",
       "106290                Ilustre Municipalidad de Mejillones         947656\n",
       "106291                Ilustre Municipalidad de Mejillones         359399\n",
       "106300                         Universidad de Antofagasta        3576902\n",
       "106391                   Hospital Regional de Antofagasta         110075\n",
       "106483                           Defensoría Penal Pública         639253\n",
       "106653                      I. MUNICIPALIDAD DE TOCOPILLA         691568\n",
       "106659                Ilustre Municipalidad de Mejillones     1.6026e+06\n",
       "106663                Ilustre Municipalidad de Mejillones         321819\n",
       "106675                         Universidad de Antofagasta         700910\n",
       "106676                         Universidad de Antofagasta        1085280\n",
       "106702  Corporación de Asistencia Judicial de las Regi...         807025\n",
       "106914                     Servicio de Impuestos Internos        97121.1\n",
       "107072                Ilustre Municipalidad de Mejillones         282804\n",
       "107073                Ilustre Municipalidad de Mejillones      2.196e+06\n",
       "107134                       Servicio Agrícola y Ganadero         335005"
      ]
     },
     "execution_count": 104,
     "metadata": {},
     "output_type": "execute_result"
    }
   ],
   "source": [
    "new_met"
   ]
  },
  {
   "cell_type": "code",
   "execution_count": 105,
   "metadata": {},
   "outputs": [],
   "source": [
    "df = new_met.groupby(['Institución']).sum() #Groupby con sum funciona para agrupar y sumar"
   ]
  },
  {
   "cell_type": "code",
   "execution_count": 106,
   "metadata": {},
   "outputs": [],
   "source": [
    "df['Monto Total OC'] = df['Monto Total OC'].round() #para redondear y eliminar e"
   ]
  },
  {
   "cell_type": "code",
   "execution_count": 107,
   "metadata": {},
   "outputs": [
    {
     "data": {
      "text/html": [
       "<div>\n",
       "<style>\n",
       "    .dataframe thead tr:only-child th {\n",
       "        text-align: right;\n",
       "    }\n",
       "\n",
       "    .dataframe thead th {\n",
       "        text-align: left;\n",
       "    }\n",
       "\n",
       "    .dataframe tbody tr th {\n",
       "        vertical-align: top;\n",
       "    }\n",
       "</style>\n",
       "<table border=\"1\" class=\"dataframe\">\n",
       "  <thead>\n",
       "    <tr style=\"text-align: right;\">\n",
       "      <th></th>\n",
       "      <th>Monto Total OC</th>\n",
       "    </tr>\n",
       "    <tr>\n",
       "      <th>Institución</th>\n",
       "      <th></th>\n",
       "    </tr>\n",
       "  </thead>\n",
       "  <tbody>\n",
       "    <tr>\n",
       "      <th>Corporación Nacional Forestal - CONAF</th>\n",
       "      <td>2915855.0</td>\n",
       "    </tr>\n",
       "    <tr>\n",
       "      <th>Corporación de Asistencia Judicial de las Regiones de Tarapacá y Antofagasta</th>\n",
       "      <td>807025.0</td>\n",
       "    </tr>\n",
       "    <tr>\n",
       "      <th>Defensoría Penal Pública</th>\n",
       "      <td>1265896.0</td>\n",
       "    </tr>\n",
       "    <tr>\n",
       "      <th>Gendarmería de Chile</th>\n",
       "      <td>645289.0</td>\n",
       "    </tr>\n",
       "    <tr>\n",
       "      <th>Hospital Regional de Antofagasta</th>\n",
       "      <td>1859375.0</td>\n",
       "    </tr>\n",
       "    <tr>\n",
       "      <th>I. MUNICIPALIDAD DE TOCOPILLA</th>\n",
       "      <td>929045.0</td>\n",
       "    </tr>\n",
       "    <tr>\n",
       "      <th>ILUSTRE MUNICIPALIDAD DE CALAMA</th>\n",
       "      <td>569235.0</td>\n",
       "    </tr>\n",
       "    <tr>\n",
       "      <th>Ilustre Municipalidad de Mejillones</th>\n",
       "      <td>7342487.0</td>\n",
       "    </tr>\n",
       "    <tr>\n",
       "      <th>Junta Nacional de Jardines Infantiles - JUNJI</th>\n",
       "      <td>257297.0</td>\n",
       "    </tr>\n",
       "    <tr>\n",
       "      <th>SERVIU II Región</th>\n",
       "      <td>2059938.0</td>\n",
       "    </tr>\n",
       "    <tr>\n",
       "      <th>Servicio Agrícola y Ganadero</th>\n",
       "      <td>335005.0</td>\n",
       "    </tr>\n",
       "    <tr>\n",
       "      <th>Servicio de Impuestos Internos</th>\n",
       "      <td>97121.0</td>\n",
       "    </tr>\n",
       "    <tr>\n",
       "      <th>Universidad de Antofagasta</th>\n",
       "      <td>5363092.0</td>\n",
       "    </tr>\n",
       "  </tbody>\n",
       "</table>\n",
       "</div>"
      ],
      "text/plain": [
       "                                                    Monto Total OC\n",
       "Institución                                                       \n",
       "Corporación Nacional Forestal - CONAF                    2915855.0\n",
       "Corporación de Asistencia Judicial de las Regio...        807025.0\n",
       "Defensoría Penal Pública                                 1265896.0\n",
       "Gendarmería de Chile                                      645289.0\n",
       "Hospital Regional de Antofagasta                         1859375.0\n",
       "I. MUNICIPALIDAD DE TOCOPILLA                             929045.0\n",
       "ILUSTRE MUNICIPALIDAD DE CALAMA                           569235.0\n",
       "Ilustre Municipalidad de Mejillones                      7342487.0\n",
       "Junta Nacional de Jardines Infantiles - JUNJI             257297.0\n",
       "SERVIU II Región                                         2059938.0\n",
       "Servicio Agrícola y Ganadero                              335005.0\n",
       "Servicio de Impuestos Internos                             97121.0\n",
       "Universidad de Antofagasta                               5363092.0"
      ]
     },
     "execution_count": 107,
     "metadata": {},
     "output_type": "execute_result"
    }
   ],
   "source": [
    "df #estos datos están correctos, no los del excel original 'estudio de mercado 3'"
   ]
  },
  {
   "cell_type": "code",
   "execution_count": 109,
   "metadata": {},
   "outputs": [],
   "source": [
    "inst = df.index"
   ]
  },
  {
   "cell_type": "code",
   "execution_count": 113,
   "metadata": {},
   "outputs": [
    {
     "name": "stdout",
     "output_type": "stream",
     "text": [
      "Corporación Nacional Forestal - CONAF\n",
      "Corporación de Asistencia Judicial de las Regiones de Tarapacá y Antofagasta\n",
      "Defensoría Penal Pública\n",
      "Gendarmería de Chile\n",
      "Hospital Regional de Antofagasta\n",
      "I. MUNICIPALIDAD DE TOCOPILLA\n",
      "ILUSTRE MUNICIPALIDAD DE CALAMA\n",
      "Ilustre Municipalidad de Mejillones\n",
      "Junta Nacional de Jardines Infantiles - JUNJI\n",
      "SERVIU II Región\n",
      "Servicio Agrícola y Ganadero\n",
      "Servicio de Impuestos Internos\n",
      "Universidad de Antofagasta\n"
     ]
    }
   ],
   "source": [
    "for i in inst:\n",
    "    print(i)"
   ]
  },
  {
   "cell_type": "code",
   "execution_count": 125,
   "metadata": {},
   "outputs": [],
   "source": [
    "cols = ['CodigoOC', 'Nombre Empresa', 'Tipo de Producto','Contacto Orden de Compra', 'Monto Total OC']\n",
    "filtro1 = xl_file['Región Unidad de Compra']=='Antofagasta'\n",
    "anio = xl_file['Año'] == 2016\n",
    "mes = xl_file['Mes'] == 'Enero'\n",
    "compras_ejec = xl_file[cols].where(filtro1 & anio & mes)"
   ]
  },
  {
   "cell_type": "code",
   "execution_count": 127,
   "metadata": {},
   "outputs": [],
   "source": [
    "tabla = compras_ejec.drop_duplicates()"
   ]
  },
  {
   "cell_type": "code",
   "execution_count": 178,
   "metadata": {},
   "outputs": [
    {
     "data": {
      "text/plain": [
       "0                                            NaN\n",
       "105243    SOCIEDAD COMERCIAL EL SALITRE LIMITADA\n",
       "105307                      ag imprenta Limitada\n",
       "105342               publicidad morales limitada\n",
       "105403             Editora e Imprenta Maval Ltda\n",
       "106080                        Emelnor Impresores\n",
       "106287                   MALLEA IMPRESORES LTDA.\n",
       "106300                             SERGRAF LTDA.\n",
       "106483          BARRA ZAMBRA IMPRESORES LIMITADA\n",
       "Name: Nombre Empresa, dtype: object"
      ]
     },
     "execution_count": 178,
     "metadata": {},
     "output_type": "execute_result"
    }
   ],
   "source": [
    "tabla['Nombre Empresa'].drop_duplicates()"
   ]
  },
  {
   "cell_type": "code",
   "execution_count": 172,
   "metadata": {},
   "outputs": [],
   "source": [
    "l = tabla.CodigoOC.drop_duplicates()[1:]"
   ]
  },
  {
   "cell_type": "code",
   "execution_count": 175,
   "metadata": {},
   "outputs": [
    {
     "name": "stdout",
     "output_type": "stream",
     "text": [
      "105243       1333-2-CM16\n",
      "105307       2385-6-CM16\n",
      "105342      1410-16-CM16\n",
      "105344      1410-18-CM16\n",
      "105403       1401-3-CM16\n",
      "105779       1573-6-CM16\n",
      "105795     2258-205-CM16\n",
      "106080       650-22-CM16\n",
      "106081       650-23-CM16\n",
      "106158      3834-33-CM16\n",
      "106287      3506-53-CM16\n",
      "106290      3834-35-CM16\n",
      "106291      3834-36-CM16\n",
      "106300     4291-126-CM16\n",
      "106391     2258-280-CM16\n",
      "106483      1333-15-CM16\n",
      "106653      3506-74-CM16\n",
      "106659      3834-45-CM16\n",
      "106663      3834-46-CM16\n",
      "106675     4291-148-CM16\n",
      "106676     4291-149-CM16\n",
      "106702    535657-38-CM16\n",
      "106914      1694-18-CM16\n",
      "107072      3834-55-CM16\n",
      "107073      3834-58-CM16\n",
      "107134      1158-19-CM16\n",
      "Name: CodigoOC, dtype: object\n"
     ]
    }
   ],
   "source": []
  },
  {
   "cell_type": "code",
   "execution_count": 34,
   "metadata": {},
   "outputs": [
    {
     "data": {
      "text/plain": [
       "'0.20.3'"
      ]
     },
     "execution_count": 34,
     "metadata": {},
     "output_type": "execute_result"
    }
   ],
   "source": [
    "pd.__version__"
   ]
  }
 ],
 "metadata": {
  "kernelspec": {
   "display_name": "Python 3",
   "language": "python",
   "name": "python3"
  },
  "language_info": {
   "codemirror_mode": {
    "name": "ipython",
    "version": 3
   },
   "file_extension": ".py",
   "mimetype": "text/x-python",
   "name": "python",
   "nbconvert_exporter": "python",
   "pygments_lexer": "ipython3",
   "version": "3.6.3"
  }
 },
 "nbformat": 4,
 "nbformat_minor": 2
}
